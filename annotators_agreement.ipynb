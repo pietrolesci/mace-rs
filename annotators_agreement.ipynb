{
 "cells": [
  {
   "cell_type": "code",
   "execution_count": 1,
   "metadata": {},
   "outputs": [],
   "source": [
    "import torch\n",
    "from pyro.infer import MCMC, NUTS, Predictive\n",
    "import annotators_models as am\n",
    "from importlib import reload\n",
    "import pyro\n",
    "import pyro.distributions as dist\n",
    "import torch\n",
    "import torch.nn.functional as F"
   ]
  },
  {
   "cell_type": "code",
   "execution_count": 2,
   "metadata": {},
   "outputs": [],
   "source": [
    "def get_data():\n",
    "    \"\"\"\n",
    "    :return: a tuple of annotator indices and class indices. The first term has shape\n",
    "        `num_positions` whose entries take values from `0` to `num_annotators - 1`.\n",
    "        The second term has shape `num_items x num_positions` whose entries take values\n",
    "        from `0` to `num_classes - 1`.\n",
    "    \"\"\"\n",
    "    # NB: the first annotator assessed each item 3 times\n",
    "    positions = torch.tensor([1, 1, 1, 2, 3, 4, 5])\n",
    "    annotations = torch.tensor(\n",
    "        [\n",
    "            [1, 1, 1, 1, 1, 1, 1],\n",
    "            [3, 3, 3, 4, 3, 3, 4],\n",
    "            [1, 1, 2, 2, 1, 2, 2],\n",
    "            [2, 2, 2, 3, 1, 2, 1],\n",
    "            [2, 2, 2, 3, 2, 2, 2],\n",
    "            [2, 2, 2, 3, 3, 2, 2],\n",
    "            [1, 2, 2, 2, 1, 1, 1],\n",
    "            [3, 3, 3, 3, 4, 3, 3],\n",
    "            [2, 2, 2, 2, 2, 2, 3],\n",
    "            [2, 3, 2, 2, 2, 2, 3],\n",
    "        ]\n",
    "    )\n",
    "    # we minus 1 because in Python, the first index is 0\n",
    "    return positions - 1, annotations - 1"
   ]
  },
  {
   "cell_type": "code",
   "execution_count": 3,
   "metadata": {},
   "outputs": [
    {
     "name": "stderr",
     "output_type": "stream",
     "text": [
      "Sample: 100%|██████████| 200/200 [00:08, 24.79it/s, step size=4.82e-01, acc. prob=0.842]\n"
     ]
    }
   ],
   "source": [
    "reload(am)\n",
    "\n",
    "seed = 42\n",
    "positions, annotations = get_data()\n",
    "model = am.mace\n",
    "data = (\n",
    "    (annotations,)\n",
    "    if model in [am.multinomial, am.item_difficulty]\n",
    "    else (positions, annotations)\n",
    ")\n",
    "\n",
    "mcmc = MCMC(\n",
    "    NUTS(model),\n",
    "    warmup_steps=100,\n",
    "    num_samples=100,\n",
    "    num_chains=1,\n",
    ")\n",
    "mcmc.run(*data)\n",
    "\n",
    "posterior_samples = mcmc.get_samples()"
   ]
  },
  {
   "cell_type": "code",
   "execution_count": 4,
   "metadata": {},
   "outputs": [],
   "source": [
    "predictive = Predictive(model, posterior_samples)\n",
    "discrete_samples = predictive(*data)"
   ]
  },
  {
   "cell_type": "code",
   "execution_count": null,
   "metadata": {},
   "outputs": [],
   "source": [
    "# item_class = torch.vmap(lambda x: torch.bincount(x, length=4))(\n",
    "#     discrete_samples[\"c\"].squeeze(-1)\n",
    "# )\n",
    "\n",
    "# print(\"Histogram of the predicted class of each item:\")\n",
    "# row_format = \"{:>10}\" * 5\n",
    "# print(row_format.format(\"\", *[\"c={}\".format(i) for i in range(4)]))\n",
    "# for i, row in enumerate(item_class):\n",
    "#     print(row_format.format(f\"item[{i}]\", *row))"
   ]
  }
 ],
 "metadata": {
  "interpreter": {
   "hash": "403e6d88a5525f7d9fbf708e24da2c78f42d5adb323daa2c61da0a4237f7a4e3"
  },
  "kernelspec": {
   "display_name": "Python 3.8.10 64-bit ('flash-dev': conda)",
   "language": "python",
   "name": "python3"
  },
  "language_info": {
   "codemirror_mode": {
    "name": "ipython",
    "version": 3
   },
   "file_extension": ".py",
   "mimetype": "text/x-python",
   "name": "python",
   "nbconvert_exporter": "python",
   "pygments_lexer": "ipython3",
   "version": "3.8.0"
  },
  "orig_nbformat": 4
 },
 "nbformat": 4,
 "nbformat_minor": 2
}
